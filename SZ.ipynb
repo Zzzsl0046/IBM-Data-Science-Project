{
 "cells": [
  {
   "cell_type": "markdown",
   "id": "452c6c3c-ac66-4323-92de-08df5b742d0b",
   "metadata": {
    "tags": []
   },
   "source": [
    "### My Jupyter Notebook on IBM Watson Studio"
   ]
  },
  {
   "cell_type": "markdown",
   "id": "de553a81-37b9-4fc5-ab21-df9df508e893",
   "metadata": {},
   "source": [
    "### James Z"
   ]
  },
  {
   "cell_type": "markdown",
   "id": "80c06295-a317-4335-a297-1564a8295412",
   "metadata": {},
   "source": [
    "##### SUNY NP Student"
   ]
  },
  {
   "cell_type": "markdown",
   "id": "a27a0297-099a-41d3-a94d-e571f2ef9221",
   "metadata": {},
   "source": [
    "##### I am interested in Data Science because I want to reveal the hidden trends in any popular events and become important and able to assist others."
   ]
  },
  {
   "cell_type": "markdown",
   "id": "cb3ce3e8-6592-4f33-bd60-a8cf6cfd516e",
   "metadata": {},
   "source": [
    "# The below should print \"hello world\""
   ]
  },
  {
   "cell_type": "code",
   "execution_count": 4,
   "id": "c6569458-750f-4bd0-9764-9ea788e94987",
   "metadata": {
    "tags": []
   },
   "outputs": [
    {
     "name": "stdout",
     "output_type": "stream",
     "text": [
      "hello world\n"
     ]
    }
   ],
   "source": [
    "print(\"hello world\")"
   ]
  },
  {
   "cell_type": "code",
   "execution_count": 15,
   "id": "e070bd9a-51d8-48ed-89d3-2b8f9fa6bfe3",
   "metadata": {
    "tags": []
   },
   "outputs": [
    {
     "name": "stdout",
     "output_type": "stream",
     "text": [
      "I love Data Science\n"
     ]
    }
   ],
   "source": [
    "print(\"I love Data Science\")"
   ]
  },
  {
   "cell_type": "markdown",
   "id": "6a6d108b-7c3d-425c-b5cb-a13bec79083a",
   "metadata": {},
   "source": [
    "### Author: James Z"
   ]
  },
  {
   "cell_type": "markdown",
   "id": "959319b0-7c38-4083-ae63-a3bc0b4f4e1d",
   "metadata": {},
   "source": [
    "##### Birthday:04/06"
   ]
  },
  {
   "cell_type": "markdown",
   "id": "dde95f3a-3024-4dd2-858d-dc7e0b1ed626",
   "metadata": {},
   "source": [
    "#### Have a nice day :)"
   ]
  },
  {
   "cell_type": "code",
   "execution_count": 14,
   "id": "180c75de-f23d-4c71-97d2-5629c8a94276",
   "metadata": {
    "tags": []
   },
   "outputs": [
    {
     "data": {
      "text/plain": [
       "80"
      ]
     },
     "execution_count": 14,
     "metadata": {},
     "output_type": "execute_result"
    }
   ],
   "source": [
    "((4+6)*4)*2"
   ]
  }
 ],
 "metadata": {
  "kernelspec": {
   "display_name": "Python 3 (ipykernel)",
   "language": "python",
   "name": "python3"
  },
  "language_info": {
   "codemirror_mode": {
    "name": "ipython",
    "version": 3
   },
   "file_extension": ".py",
   "mimetype": "text/x-python",
   "name": "python",
   "nbconvert_exporter": "python",
   "pygments_lexer": "ipython3",
   "version": "3.11.5"
  }
 },
 "nbformat": 4,
 "nbformat_minor": 5
}
